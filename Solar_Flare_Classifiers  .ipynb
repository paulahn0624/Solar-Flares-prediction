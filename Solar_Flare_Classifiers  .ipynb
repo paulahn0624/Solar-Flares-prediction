{
 "cells": [
  {
   "cell_type": "code",
   "execution_count": 1,
   "metadata": {},
   "outputs": [],
   "source": [
    "import numpy as np\n",
    "import pandas as pd\n",
    "import matplotlib.pyplot as plt\n",
    "import seaborn as sns"
   ]
  },
  {
   "cell_type": "code",
   "execution_count": 2,
   "metadata": {},
   "outputs": [],
   "source": [
    "# import warnings filter\n",
    "from warnings import simplefilter\n",
    "# ignore all future warnings\n",
    "simplefilter(action='ignore', category=FutureWarning)\n",
    "\n",
    "# import warnings filter\n",
    "from warnings import simplefilter\n",
    "# ignore all future warnings\n",
    "simplefilter(action='ignore', category=FutureWarning)"
   ]
  },
  {
   "cell_type": "code",
   "execution_count": 3,
   "metadata": {},
   "outputs": [],
   "source": [
    "#example\n",
    "#input: X22\n",
    "#returns X\n",
    "\n",
    "def get_class(exp):\n",
    "    return exp[0]"
   ]
  },
  {
   "cell_type": "code",
   "execution_count": 4,
   "metadata": {},
   "outputs": [
    {
     "data": {
      "text/html": [
       "<div>\n",
       "<style scoped>\n",
       "    .dataframe tbody tr th:only-of-type {\n",
       "        vertical-align: middle;\n",
       "    }\n",
       "\n",
       "    .dataframe tbody tr th {\n",
       "        vertical-align: top;\n",
       "    }\n",
       "\n",
       "    .dataframe thead th {\n",
       "        text-align: right;\n",
       "    }\n",
       "</style>\n",
       "<table border=\"1\" class=\"dataframe\">\n",
       "  <thead>\n",
       "    <tr style=\"text-align: right;\">\n",
       "      <th></th>\n",
       "      <th>TOTUSJH</th>\n",
       "      <th>TOTBSQ</th>\n",
       "      <th>TOTPOT</th>\n",
       "      <th>TOTUSJZ</th>\n",
       "      <th>ABSNJZH</th>\n",
       "      <th>SAVNCPP</th>\n",
       "      <th>USFLUX</th>\n",
       "      <th>AREA_ACR</th>\n",
       "      <th>TOTFZ</th>\n",
       "      <th>MEANPOT</th>\n",
       "      <th>R_VALUE</th>\n",
       "      <th>EPSZ</th>\n",
       "    </tr>\n",
       "  </thead>\n",
       "  <tbody>\n",
       "    <tr>\n",
       "      <th>0</th>\n",
       "      <td>3249.070</td>\n",
       "      <td>4.181500e+10</td>\n",
       "      <td>8.600000e+23</td>\n",
       "      <td>6.213300e+13</td>\n",
       "      <td>700.682</td>\n",
       "      <td>1.489950e+13</td>\n",
       "      <td>2.740000e+22</td>\n",
       "      <td>1103.97000</td>\n",
       "      <td>-552.8900</td>\n",
       "      <td>14038.00</td>\n",
       "      <td>4.820</td>\n",
       "      <td>-0.0251</td>\n",
       "    </tr>\n",
       "    <tr>\n",
       "      <th>1</th>\n",
       "      <td>3176.310</td>\n",
       "      <td>4.778200e+10</td>\n",
       "      <td>9.660000e+23</td>\n",
       "      <td>6.931420e+13</td>\n",
       "      <td>157.759</td>\n",
       "      <td>9.905710e+12</td>\n",
       "      <td>3.180000e+22</td>\n",
       "      <td>1400.93000</td>\n",
       "      <td>-869.7000</td>\n",
       "      <td>13463.60</td>\n",
       "      <td>4.825</td>\n",
       "      <td>-0.0345</td>\n",
       "    </tr>\n",
       "    <tr>\n",
       "      <th>2</th>\n",
       "      <td>1892.920</td>\n",
       "      <td>2.667300e+10</td>\n",
       "      <td>3.720000e+23</td>\n",
       "      <td>4.211730e+13</td>\n",
       "      <td>171.952</td>\n",
       "      <td>6.528880e+12</td>\n",
       "      <td>1.890000e+22</td>\n",
       "      <td>1370.85000</td>\n",
       "      <td>-231.2900</td>\n",
       "      <td>7496.19</td>\n",
       "      <td>4.438</td>\n",
       "      <td>-0.0164</td>\n",
       "    </tr>\n",
       "    <tr>\n",
       "      <th>3</th>\n",
       "      <td>1868.820</td>\n",
       "      <td>2.450900e+10</td>\n",
       "      <td>3.480000e+23</td>\n",
       "      <td>3.628930e+13</td>\n",
       "      <td>429.602</td>\n",
       "      <td>2.118070e+13</td>\n",
       "      <td>1.730000e+22</td>\n",
       "      <td>1198.60000</td>\n",
       "      <td>-317.5600</td>\n",
       "      <td>8669.42</td>\n",
       "      <td>4.319</td>\n",
       "      <td>-0.0246</td>\n",
       "    </tr>\n",
       "    <tr>\n",
       "      <th>4</th>\n",
       "      <td>5271.770</td>\n",
       "      <td>1.022900e+11</td>\n",
       "      <td>1.920000e+24</td>\n",
       "      <td>8.689800e+13</td>\n",
       "      <td>1066.250</td>\n",
       "      <td>1.611780e+13</td>\n",
       "      <td>6.440000e+22</td>\n",
       "      <td>1939.06000</td>\n",
       "      <td>-6162.1000</td>\n",
       "      <td>16094.80</td>\n",
       "      <td>4.912</td>\n",
       "      <td>-0.1143</td>\n",
       "    </tr>\n",
       "    <tr>\n",
       "      <th>...</th>\n",
       "      <td>...</td>\n",
       "      <td>...</td>\n",
       "      <td>...</td>\n",
       "      <td>...</td>\n",
       "      <td>...</td>\n",
       "      <td>...</td>\n",
       "      <td>...</td>\n",
       "      <td>...</td>\n",
       "      <td>...</td>\n",
       "      <td>...</td>\n",
       "      <td>...</td>\n",
       "      <td>...</td>\n",
       "    </tr>\n",
       "    <tr>\n",
       "      <th>840</th>\n",
       "      <td>191.660</td>\n",
       "      <td>2.753200e+09</td>\n",
       "      <td>1.600000e+22</td>\n",
       "      <td>3.697490e+12</td>\n",
       "      <td>14.317</td>\n",
       "      <td>1.201620e+12</td>\n",
       "      <td>1.850000e+21</td>\n",
       "      <td>196.69000</td>\n",
       "      <td>-89.5280</td>\n",
       "      <td>3684.01</td>\n",
       "      <td>3.219</td>\n",
       "      <td>-0.0617</td>\n",
       "    </tr>\n",
       "    <tr>\n",
       "      <th>841</th>\n",
       "      <td>453.274</td>\n",
       "      <td>4.039000e+09</td>\n",
       "      <td>2.450000e+22</td>\n",
       "      <td>9.979400e+12</td>\n",
       "      <td>140.312</td>\n",
       "      <td>6.265800e+12</td>\n",
       "      <td>4.280000e+21</td>\n",
       "      <td>159.16700</td>\n",
       "      <td>-742.7900</td>\n",
       "      <td>2668.60</td>\n",
       "      <td>3.011</td>\n",
       "      <td>-0.3488</td>\n",
       "    </tr>\n",
       "    <tr>\n",
       "      <th>842</th>\n",
       "      <td>330.547</td>\n",
       "      <td>4.944100e+09</td>\n",
       "      <td>6.020000e+22</td>\n",
       "      <td>6.738150e+12</td>\n",
       "      <td>83.429</td>\n",
       "      <td>1.788770e+12</td>\n",
       "      <td>3.830000e+21</td>\n",
       "      <td>195.09700</td>\n",
       "      <td>-389.4300</td>\n",
       "      <td>7298.23</td>\n",
       "      <td>3.302</td>\n",
       "      <td>-0.1494</td>\n",
       "    </tr>\n",
       "    <tr>\n",
       "      <th>843</th>\n",
       "      <td>26.477</td>\n",
       "      <td>1.021300e+09</td>\n",
       "      <td>7.490000e+20</td>\n",
       "      <td>3.684500e+11</td>\n",
       "      <td>12.193</td>\n",
       "      <td>2.752780e+11</td>\n",
       "      <td>1.860000e+20</td>\n",
       "      <td>9.81402</td>\n",
       "      <td>-9.2336</td>\n",
       "      <td>2420.74</td>\n",
       "      <td>2.946</td>\n",
       "      <td>-0.0172</td>\n",
       "    </tr>\n",
       "    <tr>\n",
       "      <th>844</th>\n",
       "      <td>487.186</td>\n",
       "      <td>3.863200e+09</td>\n",
       "      <td>4.800000e+22</td>\n",
       "      <td>1.028270e+13</td>\n",
       "      <td>50.024</td>\n",
       "      <td>1.761570e+12</td>\n",
       "      <td>3.330000e+21</td>\n",
       "      <td>113.35000</td>\n",
       "      <td>-438.1500</td>\n",
       "      <td>6530.75</td>\n",
       "      <td>3.926</td>\n",
       "      <td>-0.2151</td>\n",
       "    </tr>\n",
       "  </tbody>\n",
       "</table>\n",
       "<p>845 rows × 12 columns</p>\n",
       "</div>"
      ],
      "text/plain": [
       "      TOTUSJH        TOTBSQ        TOTPOT       TOTUSJZ   ABSNJZH  \\\n",
       "0    3249.070  4.181500e+10  8.600000e+23  6.213300e+13   700.682   \n",
       "1    3176.310  4.778200e+10  9.660000e+23  6.931420e+13   157.759   \n",
       "2    1892.920  2.667300e+10  3.720000e+23  4.211730e+13   171.952   \n",
       "3    1868.820  2.450900e+10  3.480000e+23  3.628930e+13   429.602   \n",
       "4    5271.770  1.022900e+11  1.920000e+24  8.689800e+13  1066.250   \n",
       "..        ...           ...           ...           ...       ...   \n",
       "840   191.660  2.753200e+09  1.600000e+22  3.697490e+12    14.317   \n",
       "841   453.274  4.039000e+09  2.450000e+22  9.979400e+12   140.312   \n",
       "842   330.547  4.944100e+09  6.020000e+22  6.738150e+12    83.429   \n",
       "843    26.477  1.021300e+09  7.490000e+20  3.684500e+11    12.193   \n",
       "844   487.186  3.863200e+09  4.800000e+22  1.028270e+13    50.024   \n",
       "\n",
       "          SAVNCPP        USFLUX    AREA_ACR      TOTFZ   MEANPOT  R_VALUE  \\\n",
       "0    1.489950e+13  2.740000e+22  1103.97000  -552.8900  14038.00    4.820   \n",
       "1    9.905710e+12  3.180000e+22  1400.93000  -869.7000  13463.60    4.825   \n",
       "2    6.528880e+12  1.890000e+22  1370.85000  -231.2900   7496.19    4.438   \n",
       "3    2.118070e+13  1.730000e+22  1198.60000  -317.5600   8669.42    4.319   \n",
       "4    1.611780e+13  6.440000e+22  1939.06000 -6162.1000  16094.80    4.912   \n",
       "..            ...           ...         ...        ...       ...      ...   \n",
       "840  1.201620e+12  1.850000e+21   196.69000   -89.5280   3684.01    3.219   \n",
       "841  6.265800e+12  4.280000e+21   159.16700  -742.7900   2668.60    3.011   \n",
       "842  1.788770e+12  3.830000e+21   195.09700  -389.4300   7298.23    3.302   \n",
       "843  2.752780e+11  1.860000e+20     9.81402    -9.2336   2420.74    2.946   \n",
       "844  1.761570e+12  3.330000e+21   113.35000  -438.1500   6530.75    3.926   \n",
       "\n",
       "       EPSZ  \n",
       "0   -0.0251  \n",
       "1   -0.0345  \n",
       "2   -0.0164  \n",
       "3   -0.0246  \n",
       "4   -0.1143  \n",
       "..      ...  \n",
       "840 -0.0617  \n",
       "841 -0.3488  \n",
       "842 -0.1494  \n",
       "843 -0.0172  \n",
       "844 -0.2151  \n",
       "\n",
       "[845 rows x 12 columns]"
      ]
     },
     "execution_count": 4,
     "metadata": {},
     "output_type": "execute_result"
    }
   ],
   "source": [
    "#load data\n",
    "data = pd.read_csv('flaringar_original_data.csv')\n",
    "#the target data that has been modified\n",
    "y = data['Flare Class'].apply(get_class)  #what we want to classify and predict\n",
    "#dropping columns that are not needed\n",
    "X = data.drop(['Flare Class', 'Flare Date', 'AR', 'SHRGT45'], axis=1)\n",
    "\n",
    "X"
   ]
  },
  {
   "cell_type": "markdown",
   "metadata": {},
   "source": [
    "Column meanings:<br>\n",
    "total unsigned current helicity (TOTUSJH),<br>\n",
    "total magnitude of Lorentz force (TOTBSQ),<br>\n",
    "total photospheric magnetic free energy density (TOTPOT),<br>\n",
    "total unsigned vertical current (TOTUSJZ),<br>\n",
    "absolute value of the net current helicity (ABSNJZH),<br>\n",
    "sum of the modulus of the net current per polarity (SAVNCPP),<br>\n",
    "total unsigned flux (USFLUX),<br>\n",
    "area of strong field pixels in the active region (AREA_ACR),<br>\n",
    "sum of z-component of Lorentz force (TOTFZ),<br>\n",
    "mean photospheric magnetic free energy (MEANPOT),<br>\n",
    "sum of flux near the polarity inversion line (R_VALUE),<br>\n",
    "sum of the z-component of normalized Lorentz force (EPSZ),<br>\n",
    "and fraction of area with shear >45 degrees (SHRGT45)"
   ]
  },
  {
   "cell_type": "code",
   "execution_count": 5,
   "metadata": {},
   "outputs": [],
   "source": [
    "from sklearn.model_selection import train_test_split  #splitting the dataset into training and test set\n",
    "\n",
    "X_train, X_test, y_train, y_test = train_test_split(X, y, test_size=0.25, random_state=42) "
   ]
  },
  {
   "cell_type": "code",
   "execution_count": 6,
   "metadata": {},
   "outputs": [
    {
     "data": {
      "text/plain": [
       "(633, 12)"
      ]
     },
     "execution_count": 6,
     "metadata": {},
     "output_type": "execute_result"
    }
   ],
   "source": [
    "X_train.shape # 633 train"
   ]
  },
  {
   "cell_type": "code",
   "execution_count": 7,
   "metadata": {},
   "outputs": [
    {
     "data": {
      "text/plain": [
       "(212, 12)"
      ]
     },
     "execution_count": 7,
     "metadata": {},
     "output_type": "execute_result"
    }
   ],
   "source": [
    "X_test.shape # 212 test"
   ]
  },
  {
   "cell_type": "markdown",
   "metadata": {},
   "source": [
    "# Decision Tree"
   ]
  },
  {
   "cell_type": "code",
   "execution_count": 8,
   "metadata": {},
   "outputs": [],
   "source": [
    "from sklearn.tree import DecisionTreeClassifier, plot_tree"
   ]
  },
  {
   "cell_type": "code",
   "execution_count": 9,
   "metadata": {},
   "outputs": [
    {
     "data": {
      "text/plain": [
       "DecisionTreeClassifier(max_depth=4, max_leaf_nodes=11, random_state=0)"
      ]
     },
     "execution_count": 9,
     "metadata": {},
     "output_type": "execute_result"
    }
   ],
   "source": [
    "#Deriving the best D.T. hyperparameters with GridSearchCV\n",
    "\n",
    "from sklearn.model_selection import GridSearchCV\n",
    "param_grid = {'max_depth':range(3, 10), 'max_leaf_nodes':range(2, 20)}\n",
    "grid = GridSearchCV(DecisionTreeClassifier(random_state=0), param_grid=param_grid, \n",
    "                   cv=10, return_train_score=True)\n",
    "grid.fit(X_train, y_train)\n",
    "grid.best_estimator_"
   ]
  },
  {
   "cell_type": "code",
   "execution_count": 10,
   "metadata": {},
   "outputs": [
    {
     "name": "stdout",
     "output_type": "stream",
     "text": [
      "accuracy: 0.73\n"
     ]
    }
   ],
   "source": [
    "tree = grid.best_estimator_\n",
    "tree.fit(X_train, y_train)\n",
    "print(\"accuracy: {:.2f}\".format(tree.score(X_test, y_test)))"
   ]
  },
  {
   "cell_type": "code",
   "execution_count": 11,
   "metadata": {},
   "outputs": [
    {
     "data": {
      "text/plain": [
       "[Text(396.47368421052636, 391.392, 'R_VALUE <= 4.477\\ngini = 0.516\\nsamples = 633\\nvalue = [89, 417, 108, 19]'),\n",
       " Text(193.83157894736843, 304.416, 'TOTUSJZ <= 14138499661824.0\\ngini = 0.436\\nsamples = 523\\nvalue = [89, 379, 51, 4]'),\n",
       " Text(70.48421052631579, 217.44, 'TOTUSJZ <= 3965344940032.0\\ngini = 0.549\\nsamples = 167\\nvalue = [70, 87, 10, 0]'),\n",
       " Text(35.242105263157896, 130.464, 'gini = 0.346\\nsamples = 27\\nvalue = [21, 6, 0, 0]'),\n",
       " Text(105.72631578947369, 130.464, 'MEANPOT <= 3384.2\\ngini = 0.538\\nsamples = 140\\nvalue = [49, 81, 10, 0]'),\n",
       " Text(70.48421052631579, 43.488, 'gini = 0.346\\nsamples = 54\\nvalue = [12, 42, 0, 0]'),\n",
       " Text(140.96842105263158, 43.488, 'gini = 0.596\\nsamples = 86\\nvalue = [37, 39, 10, 0]'),\n",
       " Text(317.17894736842106, 217.44, 'SAVNCPP <= 16247850270720.0\\ngini = 0.311\\nsamples = 356\\nvalue = [19, 292, 41, 4]'),\n",
       " Text(246.69473684210527, 130.464, 'TOTUSJZ <= 19381449916416.0\\ngini = 0.266\\nsamples = 320\\nvalue = [19, 272, 28, 1]'),\n",
       " Text(211.45263157894738, 43.488, 'gini = 0.358\\nsamples = 77\\nvalue = [14, 60, 3, 0]'),\n",
       " Text(281.93684210526317, 43.488, 'gini = 0.228\\nsamples = 243\\nvalue = [5, 212, 25, 1]'),\n",
       " Text(387.66315789473686, 130.464, 'MEANPOT <= 5648.755\\ngini = 0.554\\nsamples = 36\\nvalue = [0, 20, 13, 3]'),\n",
       " Text(352.42105263157896, 43.488, 'gini = 0.245\\nsamples = 14\\nvalue = [0, 12, 2, 0]'),\n",
       " Text(422.90526315789475, 43.488, 'gini = 0.599\\nsamples = 22\\nvalue = [0, 8, 11, 3]'),\n",
       " Text(599.1157894736842, 304.416, 'TOTUSJZ <= 150688998883328.0\\ngini = 0.594\\nsamples = 110\\nvalue = [0, 38, 57, 15]'),\n",
       " Text(563.8736842105263, 217.44, 'TOTPOT <= 1.3300000155361053e+24\\ngini = 0.559\\nsamples = 104\\nvalue = [0, 38, 57, 9]'),\n",
       " Text(528.6315789473684, 130.464, 'AREA_ACR <= 2339.545\\ngini = 0.568\\nsamples = 88\\nvalue = [0, 38, 43, 7]'),\n",
       " Text(493.38947368421054, 43.488, 'gini = 0.563\\nsamples = 75\\nvalue = [0, 27, 41, 7]'),\n",
       " Text(563.8736842105263, 43.488, 'gini = 0.26\\nsamples = 13\\nvalue = [0, 11, 2, 0]'),\n",
       " Text(599.1157894736842, 130.464, 'gini = 0.219\\nsamples = 16\\nvalue = [0, 0, 14, 2]'),\n",
       " Text(634.3578947368421, 217.44, 'gini = 0.0\\nsamples = 6\\nvalue = [0, 0, 0, 6]')]"
      ]
     },
     "execution_count": 11,
     "metadata": {},
     "output_type": "execute_result"
    },
    {
     "data": {
      "image/png": "[encoded data removed]",
      "text/plain": [
       "<Figure size 864x576 with 1 Axes>"
      ]
     },
     "metadata": {
      "needs_background": "light"
     },
     "output_type": "display_data"
    }
   ],
   "source": [
    "features_name = [\"TOTUSJH\", \"TOTBSQ\", \"TOTPOT\", \"TOTUSJZ\", \"ABSNJZH\", \"SAVNCPP\", \"USFLUX\", \"AREA_ACR\", \"TOTFZ\", \"MEANPOT\", \"R_VALUE\", \"EPSZ\"]\n",
    "fig, ax = plt.subplots(figsize=(12,8))\n",
    "plot_tree(grid.best_estimator_, feature_names=features_name, fontsize=10)"
   ]
  },
  {
   "cell_type": "markdown",
   "metadata": {},
   "source": [
    "# Scale using StandardScaler"
   ]
  },
  {
   "cell_type": "code",
   "execution_count": 12,
   "metadata": {},
   "outputs": [],
   "source": [
    "from sklearn.preprocessing import StandardScaler\n",
    "scaler = StandardScaler()"
   ]
  },
  {
   "cell_type": "code",
   "execution_count": 13,
   "metadata": {},
   "outputs": [],
   "source": [
    "#normalizing the train and test data using a scaler\n",
    "#fit in training set\n",
    "scaler.fit(X_train)\n",
    "X_train = scaler.transform(X_train)\n",
    "X_test = scaler.transform(X_test)"
   ]
  },
  {
   "cell_type": "code",
   "execution_count": 14,
   "metadata": {},
   "outputs": [
    {
     "data": {
      "text/plain": [
       "array([[-0.95131962, -0.9069628 , -0.63436896, ..., -1.01233906,\n",
       "        -1.13151466,  0.83649776],\n",
       "       [-0.44948946, -0.57768198, -0.39599036, ..., -0.13039191,\n",
       "         0.1666228 ,  1.02517475],\n",
       "       [-0.82714298, -0.85851045, -0.59364487, ..., -0.39773016,\n",
       "        -1.26936997,  0.9230672 ],\n",
       "       ...,\n",
       "       [-0.34286016, -0.53690636, -0.40809519, ..., -0.61757409,\n",
       "         0.20970258, -0.54491371],\n",
       "       [-0.44353159, -0.32012131, -0.33200772, ..., -0.23963354,\n",
       "        -0.77538846,  1.28118351],\n",
       "       [ 4.83241218,  3.93434952,  4.84021127, ...,  4.33795999,\n",
       "         2.08941712,  1.55716985]])"
      ]
     },
     "execution_count": 14,
     "metadata": {},
     "output_type": "execute_result"
    }
   ],
   "source": [
    "X_train"
   ]
  },
  {
   "cell_type": "code",
   "execution_count": 15,
   "metadata": {},
   "outputs": [
    {
     "data": {
      "text/plain": [
       "array([[ 0.25454396,  0.10391308,  0.103766  , ...,  0.43865007,\n",
       "         0.65773233,  0.24383006],\n",
       "       [-0.86667886, -0.79174437, -0.59260731, ..., -0.07341043,\n",
       "        -0.79549236,  0.31116185],\n",
       "       [ 2.25551599,  2.80226408,  1.46815275, ...,  0.24861422,\n",
       "         1.39583261, -0.18753731],\n",
       "       ...,\n",
       "       [-0.75315349, -0.74641922, -0.57687104, ..., -0.7976099 ,\n",
       "        -0.16796351,  0.57234999],\n",
       "       [-0.67157765, -0.72059252, -0.57012692, ..., -0.97965744,\n",
       "        -0.95345156,  0.36369544],\n",
       "       [-0.85971656, -0.70486982, -0.4426804 , ...,  1.35284325,\n",
       "        -2.4942718 ,  1.6067438 ]])"
      ]
     },
     "execution_count": 15,
     "metadata": {},
     "output_type": "execute_result"
    }
   ],
   "source": [
    "X_test"
   ]
  },
  {
   "cell_type": "markdown",
   "metadata": {},
   "source": [
    "# k-Nearest Neighbors"
   ]
  },
  {
   "cell_type": "code",
   "execution_count": 16,
   "metadata": {},
   "outputs": [
    {
     "data": {
      "text/plain": [
       "{'n_neighbors': 5}"
      ]
     },
     "execution_count": 16,
     "metadata": {},
     "output_type": "execute_result"
    }
   ],
   "source": [
    "from sklearn.neighbors import KNeighborsClassifier\n",
    "\n",
    "param_grid = {'n_neighbors':range(3, 31)}\n",
    "grid = GridSearchCV(KNeighborsClassifier(), param_grid=param_grid, \n",
    "                   cv=5, return_train_score=True)\n",
    "grid.fit(X_train, y_train)\n",
    "grid.best_params_"
   ]
  },
  {
   "cell_type": "code",
   "execution_count": 17,
   "metadata": {},
   "outputs": [
    {
     "data": {
      "text/plain": [
       "0.7155980502437196"
      ]
     },
     "execution_count": 17,
     "metadata": {},
     "output_type": "execute_result"
    }
   ],
   "source": [
    "grid.best_score_"
   ]
  },
  {
   "cell_type": "code",
   "execution_count": 18,
   "metadata": {},
   "outputs": [
    {
     "name": "stdout",
     "output_type": "stream",
     "text": [
      "accuracy: 0.71\n"
     ]
    }
   ],
   "source": [
    "knn = grid.best_estimator_\n",
    "knn.fit(X_train, y_train)\n",
    "print(\"accuracy: {:.2f}\".format(knn.score(X_test, y_test)))"
   ]
  },
  {
   "cell_type": "markdown",
   "metadata": {},
   "source": [
    "# Support Vector Machine for classification"
   ]
  },
  {
   "cell_type": "code",
   "execution_count": 19,
   "metadata": {},
   "outputs": [],
   "source": [
    "from sklearn.svm import SVC"
   ]
  },
  {
   "cell_type": "code",
   "execution_count": 20,
   "metadata": {},
   "outputs": [
    {
     "data": {
      "text/plain": [
       "SVC(kernel='linear', random_state=0)"
      ]
     },
     "execution_count": 20,
     "metadata": {},
     "output_type": "execute_result"
    }
   ],
   "source": [
    "model = SVC(kernel='linear', random_state=0)  \n",
    "model.fit(X_train, y_train) "
   ]
  },
  {
   "cell_type": "code",
   "execution_count": 21,
   "metadata": {},
   "outputs": [
    {
     "data": {
      "text/plain": [
       "array(['C', 'C', 'M', 'C', 'C', 'C', 'C', 'C', 'C', 'C', 'C', 'C', 'C',\n",
       "       'C', 'C', 'C', 'C', 'C', 'C', 'C', 'C', 'M', 'C', 'C', 'C', 'C',\n",
       "       'C', 'C', 'C', 'C', 'C', 'C', 'M', 'C', 'C', 'C', 'C', 'C', 'C',\n",
       "       'C', 'C', 'C', 'C', 'C', 'C', 'C', 'C', 'C', 'C', 'C', 'C', 'C',\n",
       "       'C', 'C', 'B', 'C', 'C', 'C', 'C', 'C', 'C', 'C', 'C', 'C', 'C',\n",
       "       'C', 'C', 'B', 'C', 'C', 'C', 'C', 'C', 'M', 'C', 'M', 'C', 'C',\n",
       "       'C', 'C', 'C', 'C', 'C', 'C', 'C', 'C', 'C', 'C', 'C', 'C', 'C',\n",
       "       'C', 'C', 'C', 'C', 'C', 'C', 'C', 'C', 'C', 'C', 'C', 'C', 'C',\n",
       "       'C', 'C', 'C', 'C', 'C', 'C', 'M', 'C', 'B', 'C', 'C', 'C', 'C',\n",
       "       'C', 'C', 'C', 'C', 'C', 'C', 'C', 'C', 'C', 'C', 'C', 'M', 'C',\n",
       "       'C', 'C', 'C', 'C', 'C', 'C', 'C', 'C', 'C', 'C', 'C', 'C', 'C',\n",
       "       'C', 'C', 'C', 'C', 'C', 'C', 'C', 'C', 'C', 'C', 'C', 'X', 'C',\n",
       "       'C', 'C', 'M', 'C', 'C', 'C', 'C', 'C', 'C', 'C', 'C', 'C', 'C',\n",
       "       'C', 'C', 'C', 'C', 'C', 'C', 'C', 'B', 'C', 'C', 'M', 'C', 'C',\n",
       "       'C', 'C', 'C', 'C', 'C', 'C', 'M', 'C', 'C', 'C', 'C', 'C', 'C',\n",
       "       'C', 'C', 'C', 'C', 'C', 'C', 'C', 'M', 'C', 'C', 'C', 'C', 'C',\n",
       "       'C', 'C', 'C', 'B'], dtype=object)"
      ]
     },
     "execution_count": 21,
     "metadata": {},
     "output_type": "execute_result"
    }
   ],
   "source": [
    "pred = model.predict(X_test)  #predicting the test set results\n",
    "pred"
   ]
  },
  {
   "cell_type": "code",
   "execution_count": 22,
   "metadata": {},
   "outputs": [],
   "source": [
    "from sklearn.metrics import accuracy_score"
   ]
  },
  {
   "cell_type": "code",
   "execution_count": 23,
   "metadata": {},
   "outputs": [
    {
     "name": "stdout",
     "output_type": "stream",
     "text": [
      "accuracy score: 0.6698\n"
     ]
    }
   ],
   "source": [
    "print('accuracy score: {0:0.4f}'. format(accuracy_score(y_test, pred))) #accuracy with linear kernal"
   ]
  },
  {
   "cell_type": "code",
   "execution_count": 24,
   "metadata": {},
   "outputs": [],
   "source": [
    "from sklearn.pipeline import make_pipeline"
   ]
  },
  {
   "cell_type": "code",
   "execution_count": 25,
   "metadata": {},
   "outputs": [],
   "source": [
    "scaled_svc = make_pipeline(StandardScaler(), SVC())"
   ]
  },
  {
   "cell_type": "code",
   "execution_count": 26,
   "metadata": {},
   "outputs": [
    {
     "data": {
      "text/plain": [
       "{'svc__C': array([1.e-03, 1.e-02, 1.e-01, 1.e+00, 1.e+01, 1.e+02]),\n",
       " 'svc__gamma': array([1.57977883e-06, 1.57977883e-05, 1.57977883e-04, 1.57977883e-03,\n",
       "        1.57977883e-02, 1.57977883e-01])}"
      ]
     },
     "execution_count": 26,
     "metadata": {},
     "output_type": "execute_result"
    }
   ],
   "source": [
    "# using pipeline of scaler and SVC. Could also use SVC and rescale gamma\n",
    "param_grid = {'svc__C': np.logspace(-3, 2, 6),\n",
    "              'svc__gamma': np.logspace(-3, 2, 6) / X_train.shape[0]}\n",
    "param_grid"
   ]
  },
  {
   "cell_type": "code",
   "execution_count": 27,
   "metadata": {},
   "outputs": [
    {
     "data": {
      "text/plain": [
       "GridSearchCV(cv=10,\n",
       "             estimator=Pipeline(steps=[('standardscaler', StandardScaler()),\n",
       "                                       ('svc', SVC())]),\n",
       "             param_grid={'svc__C': array([1.e-03, 1.e-02, 1.e-01, 1.e+00, 1.e+01, 1.e+02]),\n",
       "                         'svc__gamma': array([1.57977883e-06, 1.57977883e-05, 1.57977883e-04, 1.57977883e-03,\n",
       "       1.57977883e-02, 1.57977883e-01])})"
      ]
     },
     "execution_count": 27,
     "metadata": {},
     "output_type": "execute_result"
    }
   ],
   "source": [
    "grid = GridSearchCV(scaled_svc, param_grid=param_grid, cv=10)   # using gridsearchCV to find the best parameters. \n",
    "grid.fit(X_train, y_train)"
   ]
  },
  {
   "cell_type": "code",
   "execution_count": 28,
   "metadata": {},
   "outputs": [
    {
     "name": "stdout",
     "output_type": "stream",
     "text": [
      "{'svc__C': 100.0, 'svc__gamma': 0.01579778830963665}\n",
      "0.7028301886792453\n"
     ]
    }
   ],
   "source": [
    "print(grid.best_params_)\n",
    "print(grid.score(X_test, y_test))"
   ]
  },
  {
   "cell_type": "code",
   "execution_count": 29,
   "metadata": {},
   "outputs": [],
   "source": [
    "from sklearn.metrics import classification_report"
   ]
  },
  {
   "cell_type": "code",
   "execution_count": 30,
   "metadata": {},
   "outputs": [
    {
     "name": "stdout",
     "output_type": "stream",
     "text": [
      "              precision    recall  f1-score   support\n",
      "\n",
      "           B       0.80      0.10      0.18        39\n",
      "           C       0.67      0.97      0.79       135\n",
      "           M       0.55      0.18      0.27        34\n",
      "           X       1.00      0.25      0.40         4\n",
      "\n",
      "    accuracy                           0.67       212\n",
      "   macro avg       0.75      0.37      0.41       212\n",
      "weighted avg       0.68      0.67      0.59       212\n",
      "\n"
     ]
    }
   ],
   "source": [
    "print(classification_report(y_test, pred))"
   ]
  },
  {
   "cell_type": "code",
   "execution_count": null,
   "metadata": {},
   "outputs": [],
   "source": []
  }
 ],
 "metadata": {
  "kernelspec": {
   "display_name": "Python 3",
   "language": "python",
   "name": "python3"
  },
  "language_info": {
   "codemirror_mode": {
    "name": "ipython",
    "version": 3
   },
   "file_extension": ".py",
   "mimetype": "text/x-python",
   "name": "python",
   "nbconvert_exporter": "python",
   "pygments_lexer": "ipython3",
   "version": "3.8.3"
  }
 },
 "nbformat": 4,
 "nbformat_minor": 4
}
